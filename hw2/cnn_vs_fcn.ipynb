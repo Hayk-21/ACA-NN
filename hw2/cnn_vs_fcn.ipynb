{
  "cells": [
    {
      "cell_type": "code",
      "execution_count": 216,
      "id": "85108738",
      "metadata": {
        "id": "85108738"
      },
      "outputs": [],
      "source": [
        "import torch\n",
        "import torch.nn as nn\n",
        "from torch.utils.data import DataLoader\n",
        "from torchvision import datasets, transforms\n",
        "\n",
        "from neural_nets import cnn, fcn\n",
        "import itertools\n",
        "import numpy as np\n",
        "import matplotlib.pyplot as plt"
      ]
    },
    {
      "cell_type": "code",
      "execution_count": 217,
      "id": "a94f2779",
      "metadata": {
        "id": "a94f2779"
      },
      "outputs": [],
      "source": [
        "# Load MNIST dataset\n",
        "trainset = datasets.MNIST(root='./data', train=True, download=True, transform=transforms.ToTensor())\n",
        "testset = datasets.MNIST(root='./data', train=False, download=True, transform=transforms.ToTensor())"
      ]
    },
    {
      "cell_type": "code",
      "execution_count": 218,
      "id": "11618f61",
      "metadata": {
        "id": "11618f61"
      },
      "outputs": [],
      "source": [
        "# Grid search for hyperparameters\n",
        "# batch_size_list = [1, 2, 4]\n",
        "# learning_rate_list = [5e-4, 1e-3, 5e-3]\n",
        "batch_size_list = [1]\n",
        "learning_rate_list = [5e-4]\n",
        "hyperparameters = list(itertools.product(batch_size_list, learning_rate_list))"
      ]
    },
    {
      "cell_type": "code",
      "execution_count": 219,
      "id": "3cbd4bcd",
      "metadata": {
        "colab": {
          "base_uri": "https://localhost:8080/"
        },
        "id": "3cbd4bcd",
        "outputId": "2ab6aa43-5fb2-4023-e942-d90e055b60d2"
      },
      "outputs": [
        {
          "name": "stdout",
          "output_type": "stream",
          "text": [
            "[(1, 0.0005)]\n"
          ]
        }
      ],
      "source": [
        "print(hyperparameters)"
      ]
    },
    {
      "cell_type": "code",
      "execution_count": 29,
      "id": "c604f8a0",
      "metadata": {
        "id": "c604f8a0"
      },
      "outputs": [],
      "source": [
        "def train_loop(model, dataloader, loss_fn, optimizer, epochs =1):\n",
        "    '''\n",
        "    Train loop will loop over trainset and train provided model. Keep loss history to be sure that \n",
        "    it decreases and model learns.    \n",
        "    '''\n",
        "    loss_list = []\n",
        "    N = len(dataloader)\n",
        "    loss = None\n",
        "    correct = 0\n",
        "    total = 0\n",
        "    step_loss = []\n",
        "    for ep in range(epochs):\n",
        "        for it, (X, y) in enumerate(dataloader):\n",
        "            # print(\"it: \", it, \"\\tX: \", X.shape, \"\\ty: \", y)\n",
        "            # Run the forward pass\n",
        "            outputs = model.forward(X)\n",
        "            # print(\"Out: \", outputs)\n",
        "            # return 0\n",
        "            \n",
        "            loss = loss_fn(outputs, y)\n",
        "            # Backprop and perform Adam optimisation\n",
        "            optimizer.zero_grad()\n",
        "            loss.backward()\n",
        "            optimizer.step()\n",
        "            # Track the accuracy\n",
        "            step_loss.append(loss.item())\n",
        "            total += y.size(0)\n",
        "            _, predicted = torch.max(outputs.data, 1)\n",
        "            # print(\"y\",y, \"\\tpred\",predicted)\n",
        "            correct += (predicted == y).sum().item()\n",
        "\n",
        "            if (ep*N + it+1) % 1000 == 0:\n",
        "                '''\n",
        "                Bellow upande loss value to trach training history\n",
        "                '''\n",
        "                loss_mean = np.mean(step_loss)\n",
        "                loss_list.append(loss_mean)\n",
        "                step_loss = []\n",
        "                print('Epoch [{}/{}], Step [{}/{}], Loss: {:.4f}, Accuracy: {:.2f}%'.format(ep + 1, epochs, it + 1, N, loss_mean, (correct / total) * 100))\n",
        "                \n",
        "    return model, loss_list"
      ]
    },
    {
      "cell_type": "code",
      "execution_count": 30,
      "id": "cefcc390",
      "metadata": {
        "id": "cefcc390"
      },
      "outputs": [],
      "source": [
        "def test_loop(model, dataloader):\n",
        "    '''\n",
        "    Test loop will loop over testset and calculate accuracy for the provided model.\n",
        "    '''\n",
        "    model.eval()\n",
        "    accuracy = []\n",
        "    with torch.no_grad():\n",
        "        correct = 0\n",
        "        total = 0\n",
        "        for X, y in dataloader:\n",
        "            outputs = model(X)\n",
        "            _, predicted = torch.max(outputs.data, 1)\n",
        "            total += y.size(0)\n",
        "            correct += (predicted == y).sum().item()\n",
        "            accuracy.append(correct / total)\n",
        "        print('Test Accuracy of the model on the 1000 test images: {} %'.format((correct / total) * 100))\n",
        "\n",
        "    return accuracy"
      ]
    },
    {
      "cell_type": "code",
      "execution_count": 31,
      "id": "b9e49024",
      "metadata": {
        "id": "b9e49024"
      },
      "outputs": [],
      "source": [
        "def main_loop(model, trainset, testset, hyperparameters):\n",
        "    best_acc = None\n",
        "    results = {}\n",
        "    \n",
        "    for bs, lr in hyperparameters:\n",
        "        '''\n",
        "        Loop over all possible hyperparameters and find which model has best accuracy on testset. \n",
        "        Loss will be mean squeare error loss and optimizer is stochastic gradient descent. Save loss\n",
        "        and accuracy history for each hyperparameters for testset.\n",
        "        '''\n",
        "        traindata = DataLoader(trainset, batch_size=bs, shuffle=True)\n",
        "        testdata = DataLoader(testset, batch_size=bs, shuffle=False)\n",
        "\n",
        "        # print(traindata.size())\n",
        "        # return 0\n",
        "        loss_fn = nn.CrossEntropyLoss()\n",
        "        optimizer = torch.optim.Adam(model.parameters(), lr=lr)  \n",
        "        label = f'bs_{bs}_lr_{lr}'\n",
        "        loss = None\n",
        "        '''\n",
        "        START YOUR CODE\n",
        "        '''\n",
        "        model, loss = train_loop(model, traindata, loss_fn, optimizer, epochs = 1)\n",
        "        acc = test_loop(model, testdata)\n",
        "        for a in acc:\n",
        "            if not best_acc:\n",
        "                best_acc = a\n",
        "            elif a > best_acc:\n",
        "                best_acc = a\n",
        "\n",
        "        results[label] = loss\n",
        "    \n",
        "    return results, best_acc"
      ]
    },
    {
      "cell_type": "markdown",
      "id": "6d2619da",
      "metadata": {
        "id": "6d2619da"
      },
      "source": [
        "# CNN training and results"
      ]
    },
    {
      "cell_type": "code",
      "execution_count": 33,
      "id": "9f2db78e",
      "metadata": {
        "colab": {
          "base_uri": "https://localhost:8080/"
        },
        "id": "9f2db78e",
        "outputId": "b6440f98-4be2-4613-c1d5-6501602ac301"
      },
      "outputs": [
        {
          "name": "stdout",
          "output_type": "stream",
          "text": [
            "Epoch [1/1], Step [1000/60000], Loss: 1.6531, Accuracy: 68.40%\n",
            "Epoch [1/1], Step [2000/60000], Loss: 0.6939, Accuracy: 76.05%\n",
            "Epoch [1/1], Step [3000/60000], Loss: 0.5898, Accuracy: 79.87%\n",
            "Epoch [1/1], Step [4000/60000], Loss: 0.6527, Accuracy: 81.53%\n",
            "Epoch [1/1], Step [5000/60000], Loss: 0.4557, Accuracy: 82.94%\n",
            "Epoch [1/1], Step [6000/60000], Loss: 0.3003, Accuracy: 84.55%\n",
            "Epoch [1/1], Step [7000/60000], Loss: 0.2601, Accuracy: 85.77%\n",
            "Epoch [1/1], Step [8000/60000], Loss: 0.3239, Accuracy: 86.46%\n",
            "Epoch [1/1], Step [9000/60000], Loss: 0.2051, Accuracy: 87.22%\n",
            "Epoch [1/1], Step [10000/60000], Loss: 0.2389, Accuracy: 87.85%\n",
            "Epoch [1/1], Step [11000/60000], Loss: 0.2133, Accuracy: 88.40%\n",
            "Epoch [1/1], Step [12000/60000], Loss: 0.1876, Accuracy: 88.98%\n",
            "Epoch [1/1], Step [13000/60000], Loss: 0.1580, Accuracy: 89.44%\n",
            "Epoch [1/1], Step [14000/60000], Loss: 0.1812, Accuracy: 89.77%\n",
            "Epoch [1/1], Step [15000/60000], Loss: 0.1775, Accuracy: 90.16%\n",
            "Epoch [1/1], Step [16000/60000], Loss: 0.1419, Accuracy: 90.52%\n",
            "Epoch [1/1], Step [17000/60000], Loss: 0.2262, Accuracy: 90.72%\n",
            "Epoch [1/1], Step [18000/60000], Loss: 0.1582, Accuracy: 91.00%\n",
            "Epoch [1/1], Step [19000/60000], Loss: 0.1267, Accuracy: 91.28%\n",
            "Epoch [1/1], Step [20000/60000], Loss: 0.1210, Accuracy: 91.52%\n",
            "Epoch [1/1], Step [21000/60000], Loss: 0.1709, Accuracy: 91.73%\n",
            "Epoch [1/1], Step [22000/60000], Loss: 0.1735, Accuracy: 91.94%\n",
            "Epoch [1/1], Step [23000/60000], Loss: 0.1387, Accuracy: 92.10%\n",
            "Epoch [1/1], Step [24000/60000], Loss: 0.1296, Accuracy: 92.30%\n",
            "Epoch [1/1], Step [25000/60000], Loss: 0.1138, Accuracy: 92.48%\n",
            "Epoch [1/1], Step [26000/60000], Loss: 0.1811, Accuracy: 92.58%\n",
            "Epoch [1/1], Step [27000/60000], Loss: 0.1181, Accuracy: 92.73%\n",
            "Epoch [1/1], Step [28000/60000], Loss: 0.1243, Accuracy: 92.86%\n",
            "Epoch [1/1], Step [29000/60000], Loss: 0.1073, Accuracy: 93.01%\n",
            "Epoch [1/1], Step [30000/60000], Loss: 0.1363, Accuracy: 93.13%\n",
            "Epoch [1/1], Step [31000/60000], Loss: 0.1179, Accuracy: 93.25%\n",
            "Epoch [1/1], Step [32000/60000], Loss: 0.0785, Accuracy: 93.38%\n",
            "Epoch [1/1], Step [33000/60000], Loss: 0.1292, Accuracy: 93.48%\n",
            "Epoch [1/1], Step [34000/60000], Loss: 0.1211, Accuracy: 93.59%\n",
            "Epoch [1/1], Step [35000/60000], Loss: 0.1572, Accuracy: 93.67%\n",
            "Epoch [1/1], Step [36000/60000], Loss: 0.1024, Accuracy: 93.74%\n",
            "Epoch [1/1], Step [37000/60000], Loss: 0.1099, Accuracy: 93.82%\n",
            "Epoch [1/1], Step [38000/60000], Loss: 0.1152, Accuracy: 93.91%\n",
            "Epoch [1/1], Step [39000/60000], Loss: 0.1286, Accuracy: 93.97%\n",
            "Epoch [1/1], Step [40000/60000], Loss: 0.0666, Accuracy: 94.08%\n",
            "Epoch [1/1], Step [41000/60000], Loss: 0.0892, Accuracy: 94.17%\n",
            "Epoch [1/1], Step [42000/60000], Loss: 0.1490, Accuracy: 94.20%\n",
            "Epoch [1/1], Step [43000/60000], Loss: 0.0792, Accuracy: 94.28%\n",
            "Epoch [1/1], Step [44000/60000], Loss: 0.1201, Accuracy: 94.33%\n",
            "Epoch [1/1], Step [45000/60000], Loss: 0.0953, Accuracy: 94.40%\n",
            "Epoch [1/1], Step [46000/60000], Loss: 0.0871, Accuracy: 94.45%\n",
            "Epoch [1/1], Step [47000/60000], Loss: 0.1398, Accuracy: 94.50%\n",
            "Epoch [1/1], Step [48000/60000], Loss: 0.0904, Accuracy: 94.55%\n",
            "Epoch [1/1], Step [49000/60000], Loss: 0.1683, Accuracy: 94.56%\n",
            "Epoch [1/1], Step [50000/60000], Loss: 0.1230, Accuracy: 94.60%\n",
            "Epoch [1/1], Step [51000/60000], Loss: 0.0883, Accuracy: 94.65%\n",
            "Epoch [1/1], Step [52000/60000], Loss: 0.0990, Accuracy: 94.70%\n",
            "Epoch [1/1], Step [53000/60000], Loss: 0.0899, Accuracy: 94.75%\n",
            "Epoch [1/1], Step [54000/60000], Loss: 0.0982, Accuracy: 94.81%\n",
            "Epoch [1/1], Step [55000/60000], Loss: 0.0901, Accuracy: 94.86%\n",
            "Epoch [1/1], Step [56000/60000], Loss: 0.1066, Accuracy: 94.90%\n",
            "Epoch [1/1], Step [57000/60000], Loss: 0.0875, Accuracy: 94.94%\n",
            "Epoch [1/1], Step [58000/60000], Loss: 0.1229, Accuracy: 94.97%\n",
            "Epoch [1/1], Step [59000/60000], Loss: 0.0706, Accuracy: 95.02%\n",
            "Epoch [1/1], Step [60000/60000], Loss: 0.0768, Accuracy: 95.06%\n",
            "Test Accuracy of the model on the 1000 test images: 96.69 %\n",
            "{'bs_1_lr_0.0005': [1.6530735372388672, 0.6938596727907386, 0.5897606380369989, 0.6526953124173082, 0.45572233065284273, 0.30025364237567626, 0.26014125580113356, 0.32386595373636956, 0.20510996066445317, 0.23893253201046266, 0.2133018705485705, 0.18757292902223907, 0.15801106158662775, 0.18124840740627762, 0.17745214444867594, 0.141934432004316, 0.22623607074927463, 0.1582418631431725, 0.1266569766755137, 0.12103343285098478, 0.17094060460288266, 0.1735488278616369, 0.13873454643068522, 0.12962270236265966, 0.11381736315840467, 0.18105682686335717, 0.11812321644358756, 0.12433661295608268, 0.10732706989844193, 0.13626122082672668, 0.1178980739277161, 0.07853508792060361, 0.1291799095590444, 0.12111633922970684, 0.15715201281249308, 0.10243910012054701, 0.10987001484919696, 0.11519700421842848, 0.12856093938134572, 0.06661244590753328, 0.08921257086735458, 0.1489703126594653, 0.0791664987634478, 0.12007003439165394, 0.09526566987506929, 0.08708299575288554, 0.13983403199687128, 0.09043064938954105, 0.1682695357169439, 0.12301015107475931, 0.08834947605703923, 0.09901174166249282, 0.08985971810620576, 0.09823767480140119, 0.09006304441618267, 0.1065868000938898, 0.08753856774516572, 0.12291102463511995, 0.07063532213700595, 0.0768274953426103]}\n",
            "Best accuracy for CNN model is : 1.0\n"
          ]
        }
      ],
      "source": [
        "'''\n",
        "Modify params below to create neural network with important parameters\n",
        "CNN should have folowing structure [BatchNorm, ConvLayer, MaxPooling, ConvLayer, MaxPooling, Linear] \n",
        "'''\n",
        "params = {\n",
        "    'Conv1_in_channel': 1,\n",
        "    'Conv1_out_channel': 32,\n",
        "    'Conv2_in_channel': 32,\n",
        "    'Conv2_out_channel': 64,\n",
        "    'img_size': 7,\n",
        "    'Conv_kernel_size': 5,\n",
        "    'Conv_stride': 1,\n",
        "    'Conv_padding': 2,\n",
        "    'Pool_kernel_size': 2,\n",
        "    'Pool_stride': 2,\n",
        "} # TODO : Updata params and pass to cnn to create neural net\n",
        "model = cnn(params)\n",
        "\n",
        "results, cnn_best_acc = main_loop(model, trainset, testset, hyperparameters)\n",
        "print(results)\n",
        "print(f'Best accuracy for CNN model is : {cnn_best_acc}')"
      ]
    },
    {
      "cell_type": "code",
      "execution_count": 34,
      "id": "f4d9834f",
      "metadata": {
        "colab": {
          "base_uri": "https://localhost:8080/",
          "height": 475
        },
        "id": "f4d9834f",
        "outputId": "655464c9-afac-4417-a5e3-126d4f51c395"
      },
      "outputs": [
        {
          "name": "stdout",
          "output_type": "stream",
          "text": [
            "label bs_1_lr_0.0005\n"
          ]
        },
        {
          "data": {
            "image/png": "[encoded data removed]",
            "text/plain": [
              "<Figure size 1080x504 with 1 Axes>"
            ]
          },
          "metadata": {
            "needs_background": "light"
          },
          "output_type": "display_data"
        }
      ],
      "source": [
        "plt.figure(figsize=(15,7))\n",
        "plt.title(f'CNN Loss history for each hyperparamters pair')\n",
        "for label in results:\n",
        "    print(\"label\", label)\n",
        "    plt.plot(np.arange(len(results[label]))*1000, results[label], label=label)\n",
        "plt.xlabel(\"Iterations\")\n",
        "plt.ylabel(\"Loss\")\n",
        "plt.legend()\n",
        "plt.show()"
      ]
    },
    {
      "cell_type": "markdown",
      "id": "e3d8ead1",
      "metadata": {
        "id": "e3d8ead1"
      },
      "source": [
        "# FCN training and results"
      ]
    },
    {
      "cell_type": "code",
      "execution_count": 35,
      "id": "67aa392f",
      "metadata": {
        "colab": {
          "base_uri": "https://localhost:8080/"
        },
        "id": "67aa392f",
        "outputId": "a4e33225-85e7-4702-ea6b-ad4e88b2e9f6"
      },
      "outputs": [
        {
          "name": "stdout",
          "output_type": "stream",
          "text": [
            "Epoch [1/1], Step [1000/60000], Loss: 1.9274, Accuracy: 62.50%\n",
            "Epoch [1/1], Step [2000/60000], Loss: 1.6717, Accuracy: 73.15%\n",
            "Epoch [1/1], Step [3000/60000], Loss: 1.6396, Accuracy: 76.93%\n",
            "Epoch [1/1], Step [4000/60000], Loss: 1.6078, Accuracy: 79.07%\n",
            "Epoch [1/1], Step [5000/60000], Loss: 1.6117, Accuracy: 80.48%\n",
            "Epoch [1/1], Step [6000/60000], Loss: 1.5745, Accuracy: 81.85%\n",
            "Epoch [1/1], Step [7000/60000], Loss: 1.5833, Accuracy: 82.76%\n",
            "Epoch [1/1], Step [8000/60000], Loss: 1.5690, Accuracy: 83.66%\n",
            "Epoch [1/1], Step [9000/60000], Loss: 1.5563, Accuracy: 84.61%\n",
            "Epoch [1/1], Step [10000/60000], Loss: 1.5495, Accuracy: 85.39%\n",
            "Epoch [1/1], Step [11000/60000], Loss: 1.5593, Accuracy: 85.87%\n",
            "Epoch [1/1], Step [12000/60000], Loss: 1.5450, Accuracy: 86.42%\n",
            "Epoch [1/1], Step [13000/60000], Loss: 1.5425, Accuracy: 86.85%\n",
            "Epoch [1/1], Step [14000/60000], Loss: 1.5348, Accuracy: 87.24%\n",
            "Epoch [1/1], Step [15000/60000], Loss: 1.5514, Accuracy: 87.45%\n",
            "Epoch [1/1], Step [16000/60000], Loss: 1.5456, Accuracy: 87.69%\n",
            "Epoch [1/1], Step [17000/60000], Loss: 1.5368, Accuracy: 87.92%\n",
            "Epoch [1/1], Step [18000/60000], Loss: 1.5490, Accuracy: 88.11%\n",
            "Epoch [1/1], Step [19000/60000], Loss: 1.5449, Accuracy: 88.28%\n",
            "Epoch [1/1], Step [20000/60000], Loss: 1.5384, Accuracy: 88.50%\n",
            "Epoch [1/1], Step [21000/60000], Loss: 1.5341, Accuracy: 88.68%\n",
            "Epoch [1/1], Step [22000/60000], Loss: 1.5298, Accuracy: 88.92%\n",
            "Epoch [1/1], Step [23000/60000], Loss: 1.5225, Accuracy: 89.13%\n",
            "Epoch [1/1], Step [24000/60000], Loss: 1.5262, Accuracy: 89.33%\n",
            "Epoch [1/1], Step [25000/60000], Loss: 1.5280, Accuracy: 89.46%\n",
            "Epoch [1/1], Step [26000/60000], Loss: 1.5269, Accuracy: 89.58%\n",
            "Epoch [1/1], Step [27000/60000], Loss: 1.5278, Accuracy: 89.73%\n",
            "Epoch [1/1], Step [28000/60000], Loss: 1.5204, Accuracy: 89.89%\n",
            "Epoch [1/1], Step [29000/60000], Loss: 1.5324, Accuracy: 89.97%\n",
            "Epoch [1/1], Step [30000/60000], Loss: 1.5194, Accuracy: 90.10%\n",
            "Epoch [1/1], Step [31000/60000], Loss: 1.5282, Accuracy: 90.19%\n",
            "Epoch [1/1], Step [32000/60000], Loss: 1.5214, Accuracy: 90.27%\n",
            "Epoch [1/1], Step [33000/60000], Loss: 1.5200, Accuracy: 90.38%\n",
            "Epoch [1/1], Step [34000/60000], Loss: 1.5299, Accuracy: 90.44%\n",
            "Epoch [1/1], Step [35000/60000], Loss: 1.5382, Accuracy: 90.48%\n",
            "Epoch [1/1], Step [36000/60000], Loss: 1.5198, Accuracy: 90.60%\n",
            "Epoch [1/1], Step [37000/60000], Loss: 1.5213, Accuracy: 90.69%\n",
            "Epoch [1/1], Step [38000/60000], Loss: 1.5190, Accuracy: 90.79%\n",
            "Epoch [1/1], Step [39000/60000], Loss: 1.5156, Accuracy: 90.89%\n",
            "Epoch [1/1], Step [40000/60000], Loss: 1.5186, Accuracy: 90.97%\n",
            "Epoch [1/1], Step [41000/60000], Loss: 1.5258, Accuracy: 91.00%\n",
            "Epoch [1/1], Step [42000/60000], Loss: 1.5147, Accuracy: 91.07%\n",
            "Epoch [1/1], Step [43000/60000], Loss: 1.5173, Accuracy: 91.14%\n",
            "Epoch [1/1], Step [44000/60000], Loss: 1.5161, Accuracy: 91.19%\n",
            "Epoch [1/1], Step [45000/60000], Loss: 1.5192, Accuracy: 91.27%\n",
            "Epoch [1/1], Step [46000/60000], Loss: 1.5177, Accuracy: 91.33%\n",
            "Epoch [1/1], Step [47000/60000], Loss: 1.5202, Accuracy: 91.37%\n",
            "Epoch [1/1], Step [48000/60000], Loss: 1.5203, Accuracy: 91.42%\n",
            "Epoch [1/1], Step [49000/60000], Loss: 1.5144, Accuracy: 91.50%\n",
            "Epoch [1/1], Step [50000/60000], Loss: 1.5243, Accuracy: 91.55%\n",
            "Epoch [1/1], Step [51000/60000], Loss: 1.5252, Accuracy: 91.58%\n",
            "Epoch [1/1], Step [52000/60000], Loss: 1.5159, Accuracy: 91.63%\n",
            "Epoch [1/1], Step [53000/60000], Loss: 1.5254, Accuracy: 91.67%\n",
            "Epoch [1/1], Step [54000/60000], Loss: 1.5026, Accuracy: 91.74%\n",
            "Epoch [1/1], Step [55000/60000], Loss: 1.5065, Accuracy: 91.81%\n",
            "Epoch [1/1], Step [56000/60000], Loss: 1.5203, Accuracy: 91.83%\n",
            "Epoch [1/1], Step [57000/60000], Loss: 1.5208, Accuracy: 91.86%\n",
            "Epoch [1/1], Step [58000/60000], Loss: 1.5142, Accuracy: 91.90%\n",
            "Epoch [1/1], Step [59000/60000], Loss: 1.5133, Accuracy: 91.93%\n",
            "Epoch [1/1], Step [60000/60000], Loss: 1.5035, Accuracy: 91.99%\n",
            "Test Accuracy of the model on the 1000 test images: 94.1 %\n",
            "Best accuracy for FCN model is : 1.0\n"
          ]
        }
      ],
      "source": [
        "'''\n",
        "Modify params below to create neural network with important parameters\n",
        "FCN should have folowing structure [Linear, ReLU, Linear, ReLU]\n",
        "'''\n",
        "params = {\n",
        "    'input_size': 784,\n",
        "    'hidden_size': 100,\n",
        "    'output_size': 10,\n",
        "} # TODO : Updata params and pass to cnn to create neural net\n",
        "model = fcn(params)\n",
        "results, fcn_best_acc = main_loop(model, trainset, testset, hyperparameters)\n",
        "print(f'Best accuracy for FCN model is : {fcn_best_acc}')"
      ]
    },
    {
      "cell_type": "code",
      "execution_count": 36,
      "id": "c86c62e0",
      "metadata": {
        "colab": {
          "base_uri": "https://localhost:8080/",
          "height": 475
        },
        "id": "c86c62e0",
        "outputId": "fb70c506-0fd3-4584-ba73-58fa2b0f1c57"
      },
      "outputs": [
        {
          "name": "stdout",
          "output_type": "stream",
          "text": [
            "label bs_1_lr_0.0005\n"
          ]
        },
        {
          "data": {
            "image/png": "[encoded data removed]",
            "text/plain": [
              "<Figure size 1080x504 with 1 Axes>"
            ]
          },
          "metadata": {
            "needs_background": "light"
          },
          "output_type": "display_data"
        }
      ],
      "source": [
        "plt.figure(figsize=(15,7))\n",
        "plt.title('FCN Loss history for each hyperparamters pair')\n",
        "for label in results:\n",
        "    print(\"label\", label)\n",
        "    plt.plot(np.arange(len(results[label]))*1000, results[label], label=label)\n",
        "plt.xlabel(\"Iterations\")\n",
        "plt.ylabel(\"Loss\")\n",
        "plt.legend()\n",
        "plt.show()"
      ]
    },
    {
      "cell_type": "code",
      "execution_count": 36,
      "id": "82724613",
      "metadata": {
        "id": "82724613"
      },
      "outputs": [],
      "source": []
    }
  ],
  "metadata": {
    "colab": {
      "name": "cnn_vs_fcn.ipynb",
      "provenance": []
    },
    "interpreter": {
      "hash": "a5c758cb36bdd243dff6b00854194bdf5f0062204e0e9aab5d650f60e8dab26c"
    },
    "kernelspec": {
      "display_name": "Python 3.7.0 64-bit",
      "language": "python",
      "name": "python3"
    },
    "language_info": {
      "codemirror_mode": {
        "name": "ipython",
        "version": 3
      },
      "file_extension": ".py",
      "mimetype": "text/x-python",
      "name": "python",
      "nbconvert_exporter": "python",
      "pygments_lexer": "ipython3",
      "version": "3.7.0"
    }
  },
  "nbformat": 4,
  "nbformat_minor": 5
}
