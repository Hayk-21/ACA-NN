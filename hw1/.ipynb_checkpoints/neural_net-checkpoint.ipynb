{
 "cells": [
  {
   "cell_type": "markdown",
   "id": "45fc230c",
   "metadata": {},
   "source": [
    "# Neural network practice\n",
    "\n",
    "Lets create 2 layer neural network and train it with public dataset"
   ]
  },
  {
   "cell_type": "code",
   "execution_count": null,
   "id": "a8a84423",
   "metadata": {},
   "outputs": [],
   "source": [
    "!pip install torchvision\n",
    "import numpy as np\n",
    "import torchvision.datasets as datasets\n",
    "import matplotlib.pyplot as plt"
   ]
  },
  {
   "cell_type": "code",
   "execution_count": null,
   "id": "111d04f3",
   "metadata": {},
   "outputs": [],
   "source": [
    "'''\n",
    "MNIST is simple image open source dataset with 0-9 written digits. Each image has (28,28) shape\n",
    "'''\n",
    "mnist_trainset = datasets.MNIST(root='./data', train=True, download=True, transform=None)\n",
    "mnist_testset = datasets.MNIST(root='./data', train=False, download=True, transform=None)"
   ]
  },
  {
   "cell_type": "code",
   "execution_count": null,
   "id": "6dce4c3c",
   "metadata": {},
   "outputs": [],
   "source": [
    "'''\n",
    "MNIST properties\n",
    "'''\n",
    "print('***** Dataset info ******')\n",
    "print(mnist_trainset)\n",
    "print(mnist_testset)\n",
    "print()\n",
    "print('***** Single element in the dataset ******')\n",
    "print(f'X sample is : {mnist_trainset[0][0]}')\n",
    "print(f'y sample is : {mnist_trainset[0][1]}')"
   ]
  },
  {
   "cell_type": "markdown",
   "id": "b296262d",
   "metadata": {},
   "source": [
    "# Visualize"
   ]
  },
  {
   "cell_type": "code",
   "execution_count": null,
   "id": "f1fd02fc",
   "metadata": {},
   "outputs": [],
   "source": [
    "'''\n",
    "Visualize few images from the dataset\n",
    "'''\n",
    "row_number = 3\n",
    "column_number = 3\n",
    "inds = np.random.randint(0, 60000, row_number*column_number)\n",
    "imgs = [mnist_trainset[i][0] for i in inds]\n",
    "fig, axes = plt.subplots(row_number,column_number)\n",
    "for i in range(row_number):\n",
    "    for j in range(column_number):\n",
    "        axes[i][j].imshow(imgs[i*column_number + j])"
   ]
  },
  {
   "cell_type": "code",
   "execution_count": null,
   "id": "3c48d68a",
   "metadata": {
    "scrolled": true
   },
   "outputs": [],
   "source": [
    "'''\n",
    "Preprocess images to make them numpy arrays for the neural network\n",
    "YOUR CODE BELLOW\n",
    "'''\n",
    "def preprocess_images(dataset):\n",
    "    '''\n",
    "    param dataset: MNIST dataset\n",
    "    \n",
    "    return parameter should be numpy.array\n",
    "    '''\n",
    "    X, Y = None, None\n",
    "    return X, Y\n",
    "\n",
    "X_trainset, y_trainset = preprocess_images(mnist_trainset)\n",
    "X_test, y_test = preprocess_images(mnist_testset)"
   ]
  },
  {
   "cell_type": "code",
   "execution_count": null,
   "id": "ec802762",
   "metadata": {},
   "outputs": [],
   "source": [
    "# Check if the preprocessing done correct\n",
    "assert X_trainset.shape == (60000, 784)\n",
    "assert y_trainset.shape == (60000,)\n",
    "assert X_test.shape == (10000, 784)\n",
    "assert y_test.shape == (10000,)"
   ]
  },
  {
   "cell_type": "markdown",
   "id": "13d71308",
   "metadata": {},
   "source": [
    "# Define your model\n",
    "\n",
    "You need to create 2 layer fully connected neural network. Activation function will be ReLU."
   ]
  },
  {
   "cell_type": "code",
   "execution_count": null,
   "id": "cde537ad",
   "metadata": {},
   "outputs": [],
   "source": [
    "from neural_net import TwoLayerNet\n",
    "from time import time"
   ]
  },
  {
   "cell_type": "code",
   "execution_count": null,
   "id": "9faec008",
   "metadata": {},
   "outputs": [],
   "source": [
    "'''\n",
    "You need to define your parameters for your network\n",
    "YOUR CODE BELLOW\n",
    "'''\n",
    "input_size = \n",
    "hidden_size = \n",
    "output_size = \n",
    "\n",
    "nn_model = TwoLayerNet(input_size, hidden_size, output_size)"
   ]
  },
  {
   "cell_type": "markdown",
   "id": "ef9ac27a",
   "metadata": {},
   "source": [
    "# Train model\n",
    "\n",
    "Below you will start to train your model"
   ]
  },
  {
   "cell_type": "code",
   "execution_count": null,
   "id": "bdd276f0",
   "metadata": {},
   "outputs": [],
   "source": [
    "'''\n",
    "YOUR CODE BELLOW\n",
    "'''\n",
    "def train_val_split(X, y, ratio=0.8):\n",
    "    '''\n",
    "    param X: trainset features\n",
    "    param y: trainset labels\n",
    "    param ratio: Train-val split ratio\n",
    "    \n",
    "    return splitted matricies as numpy.array's\n",
    "    '''\n",
    "    X_train, y_train, X_val, y_val = None, None, None, None\n",
    "    \n",
    "    return X_train, y_train, X_val, y_val"
   ]
  },
  {
   "cell_type": "code",
   "execution_count": null,
   "id": "60321f00",
   "metadata": {},
   "outputs": [],
   "source": [
    " X_train, y_train, X_val, y_val = train_val_split(X,y)"
   ]
  },
  {
   "cell_type": "code",
   "execution_count": null,
   "id": "c1733b32",
   "metadata": {},
   "outputs": [],
   "source": [
    "learning_rate = 1e-4\n",
    "batch_size = 4\n",
    "num_iters = 1000"
   ]
  },
  {
   "cell_type": "code",
   "execution_count": null,
   "id": "abc6c9b6",
   "metadata": {},
   "outputs": [],
   "source": [
    "t1 = time()\n",
    "results = nn_model.train(X_train, y_train, X_val, y_val, learning_rate, batch_size, num_iters)\n",
    "t2 = timie()\n",
    "print(f'It took {t2-t1} seconds to train model')"
   ]
  },
  {
   "cell_type": "markdown",
   "id": "076c06b5",
   "metadata": {},
   "source": [
    "# Results\n",
    "\n",
    "Lets plot loss, train accuracy and validation accuracy"
   ]
  },
  {
   "cell_type": "code",
   "execution_count": null,
   "id": "598d3f8e",
   "metadata": {},
   "outputs": [],
   "source": [
    "plt.plot(np.arange(len(results['loss_history'])), results['loss_history'])\n",
    "plt.xlabel(\"Iterations\")\n",
    "plt.ylabel(\"Loss\")\n",
    "plt.show()"
   ]
  },
  {
   "cell_type": "code",
   "execution_count": null,
   "id": "ea6aa618",
   "metadata": {},
   "outputs": [],
   "source": [
    "plt.plot(np.arange(len(results['train_acc_history']))*100, results['train_acc_history'],label='train')\n",
    "plt.plot(np.arange(len(results['val_acc_history']))*100, results['val_acc_history'], label='val')\n",
    "plt.xlabel(\"Iterations\")\n",
    "plt.ylabel(\"Accuracy\")\n",
    "plt.legend()\n",
    "plt.show()"
   ]
  },
  {
   "cell_type": "markdown",
   "id": "d02247f3",
   "metadata": {},
   "source": [
    "# Test model\n",
    "\n",
    "Finally we can test trained model on test dataset"
   ]
  },
  {
   "cell_type": "code",
   "execution_count": null,
   "id": "fb01a0c2",
   "metadata": {},
   "outputs": [],
   "source": [
    "y_pred = nn_model.predict(X_test)\n",
    "test_acc = (y_pred == y_test).mean()*100\n",
    "print(f'Your model test accuracy is : {test_acc}%')"
   ]
  },
  {
   "cell_type": "code",
   "execution_count": null,
   "id": "68128bf3",
   "metadata": {},
   "outputs": [],
   "source": []
  },
  {
   "cell_type": "code",
   "execution_count": null,
   "id": "77224182",
   "metadata": {},
   "outputs": [],
   "source": []
  },
  {
   "cell_type": "code",
   "execution_count": null,
   "id": "3b422552",
   "metadata": {},
   "outputs": [],
   "source": []
  }
 ],
 "metadata": {
  "kernelspec": {
   "display_name": "Python 3 (ipykernel)",
   "language": "python",
   "name": "python3"
  },
  "language_info": {
   "codemirror_mode": {
    "name": "ipython",
    "version": 3
   },
   "file_extension": ".py",
   "mimetype": "text/x-python",
   "name": "python",
   "nbconvert_exporter": "python",
   "pygments_lexer": "ipython3",
   "version": "3.9.12"
  }
 },
 "nbformat": 4,
 "nbformat_minor": 5
}
