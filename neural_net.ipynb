{
 "cells": [
  {
   "cell_type": "markdown",
   "id": "45fc230c",
   "metadata": {
    "pycharm": {
     "name": "#%% md\n"
    }
   },
   "source": [
    "# Neural network practice\n",
    "\n",
    "Lets create 2 layer neural network and train it with public dataset"
   ]
  },
  {
   "cell_type": "code",
   "execution_count": 31,
   "id": "a8a84423",
   "metadata": {
    "pycharm": {
     "name": "#%%\n"
    }
   },
   "outputs": [],
   "source": [
    "# !pip install torchvision\n",
    "import numpy as np\n",
    "import torchvision.datasets as datasets\n",
    "import matplotlib.pyplot as plt"
   ]
  },
  {
   "cell_type": "code",
   "execution_count": 32,
   "id": "111d04f3",
   "metadata": {
    "pycharm": {
     "name": "#%%\n"
    }
   },
   "outputs": [],
   "source": [
    "'''\n",
    "MNIST is simple image open source dataset with 0-9 written digits. Each image has (28,28) shape\n",
    "'''\n",
    "mnist_trainset = datasets.MNIST(root='./data', train=True, download=True, transform=None)\n",
    "mnist_testset = datasets.MNIST(root='./data', train=False, download=True, transform=None)"
   ]
  },
  {
   "cell_type": "code",
   "execution_count": 33,
   "id": "6dce4c3c",
   "metadata": {
    "pycharm": {
     "name": "#%%\n"
    }
   },
   "outputs": [
    {
     "name": "stdout",
     "output_type": "stream",
     "text": [
      "***** Dataset info ******\n",
      "Dataset MNIST\n",
      "    Number of datapoints: 60000\n",
      "    Root location: ./data\n",
      "    Split: Train\n",
      "Dataset MNIST\n",
      "    Number of datapoints: 10000\n",
      "    Root location: ./data\n",
      "    Split: Test\n",
      "\n",
      "***** Single element in the dataset ******\n",
      "X sample is : <PIL.Image.Image image mode=L size=28x28 at 0x16D1760B048>\n",
      "y sample is : 5\n"
     ]
    }
   ],
   "source": [
    "'''\n",
    "MNIST properties\n",
    "'''\n",
    "print('***** Dataset info ******')\n",
    "print(mnist_trainset)\n",
    "print(mnist_testset)\n",
    "print()\n",
    "print('***** Single element in the dataset ******')\n",
    "print(f'X sample is : {mnist_trainset[0][0]}')\n",
    "print(f'y sample is : {mnist_trainset[0][1]}')"
   ]
  },
  {
   "cell_type": "markdown",
   "id": "b296262d",
   "metadata": {
    "pycharm": {
     "name": "#%% md\n"
    }
   },
   "source": [
    "# Visualize"
   ]
  },
  {
   "cell_type": "code",
   "execution_count": 34,
   "id": "f1fd02fc",
   "metadata": {
    "pycharm": {
     "is_executing": true,
     "name": "#%%\n"
    }
   },
   "outputs": [
    {
     "data": {
      "image/png": "[encoded data removed]",
      "text/plain": [
       "<Figure size 432x288 with 9 Axes>"
      ]
     },
     "metadata": {
      "needs_background": "light"
     },
     "output_type": "display_data"
    }
   ],
   "source": [
    "'''\n",
    "Visualize few images from the dataset\n",
    "'''\n",
    "row_number = 3\n",
    "column_number = 3\n",
    "inds = np.random.randint(0, 60000, row_number*column_number)\n",
    "imgs = [mnist_trainset[i][0] for i in inds]\n",
    "fig, axes = plt.subplots(row_number,column_number)\n",
    "for i in range(row_number):\n",
    "    for j in range(column_number):\n",
    "        axes[i][j].imshow(imgs[i*column_number + j])"
   ]
  },
  {
   "cell_type": "code",
   "execution_count": 35,
   "id": "3c48d68a",
   "metadata": {
    "pycharm": {
     "name": "#%%\n"
    },
    "scrolled": true
   },
   "outputs": [
    {
     "name": "stdout",
     "output_type": "stream",
     "text": [
      "(60000, 784)\n"
     ]
    }
   ],
   "source": [
    "'''\n",
    "Preprocess images to make them numpy arrays for the neural network\n",
    "YOUR CODE BELLOW\n",
    "'''\n",
    "def preprocess_images(dataset):\n",
    "    '''\n",
    "    param dataset: MNIST dataset\n",
    "    \n",
    "    return parameter should be numpy.array\n",
    "    '''\n",
    "    X = []\n",
    "    Y = []\n",
    "    for img in dataset:\n",
    "      X.append(np.array(img[0]).flatten())\n",
    "      Y.append(np.array(img[1]))\n",
    "\n",
    "    X = np.array(X)\n",
    "    Y = np.array(Y)\n",
    "    return X, Y\n",
    "\n",
    "X_trainset, y_trainset = preprocess_images(mnist_trainset)\n",
    "X_test, y_test = preprocess_images(mnist_testset)\n",
    "print(X_trainset.shape)\n"
   ]
  },
  {
   "cell_type": "code",
   "execution_count": 36,
   "id": "ec802762",
   "metadata": {
    "pycharm": {
     "name": "#%%\n"
    }
   },
   "outputs": [],
   "source": [
    "# Check if the preprocessing done correct\n",
    "assert X_trainset.shape == (60000, 784)\n",
    "assert y_trainset.shape == (60000,)\n",
    "assert X_test.shape == (10000, 784)\n",
    "assert y_test.shape == (10000,)"
   ]
  },
  {
   "cell_type": "markdown",
   "id": "13d71308",
   "metadata": {
    "pycharm": {
     "name": "#%% md\n"
    }
   },
   "source": [
    "# Define your model\n",
    "\n",
    "You need to create 2 layer fully connected neural network. Activation function will be ReLU."
   ]
  },
  {
   "cell_type": "code",
   "execution_count": 119,
   "id": "cde537ad",
   "metadata": {
    "pycharm": {
     "name": "#%%\n"
    }
   },
   "outputs": [],
   "source": [
    "from neu_net import TwoLayerNet\n",
    "from time import time"
   ]
  },
  {
   "cell_type": "code",
   "execution_count": 120,
   "id": "9faec008",
   "metadata": {
    "pycharm": {
     "name": "#%%\n"
    }
   },
   "outputs": [
    {
     "name": "stdout",
     "output_type": "stream",
     "text": [
      "(60000, 10)\n",
      "[[ 30469.2866553    9197.5739063  -12817.94882364 ... -10303.35798624\n",
      "    3487.27279466  -4552.8583214 ]\n",
      " [ 28828.81346174 -16201.25946366   1111.83838288 ...  -6393.36058236\n",
      "    5366.63309032   5726.90622502]\n",
      " [ 12027.3702653    5106.68290582  -1643.82512044 ...  -1974.99543627\n",
      "   -3986.38047611  21463.61463983]\n",
      " ...\n",
      " [ 29969.29050967  10714.49160823   2696.5683533  ...  -7044.29130354\n",
      "   -1563.48451759 -15988.18492105]\n",
      " [  5576.21686804 -12608.51611685  11588.22595184 ...   1481.25189189\n",
      "   11569.23396017   4928.57429312]\n",
      " [ 21184.11440123   1775.08782154  12766.35331101 ...  -4553.31114455\n",
      "   -5480.14667196  -4046.36970513]]\n"
     ]
    }
   ],
   "source": [
    "'''\n",
    "You need to define your parameters for your network\n",
    "YOUR CODE BELLOW\n",
    "'''\n",
    "input_size = 784\n",
    "hidden_size = 100\n",
    "output_size = 10\n",
    "\n",
    "nn_model = TwoLayerNet(input_size, hidden_size, output_size)\n",
    "y_pred = nn_model.predict(X_trainset)\n",
    "print(y_pred)"
   ]
  },
  {
   "cell_type": "markdown",
   "id": "ef9ac27a",
   "metadata": {
    "pycharm": {
     "name": "#%% md\n"
    }
   },
   "source": [
    "# Train model\n",
    "\n",
    "Below you will start to train your model"
   ]
  },
  {
   "cell_type": "code",
   "execution_count": null,
   "id": "bdd276f0",
   "metadata": {
    "pycharm": {
     "name": "#%%\n"
    }
   },
   "outputs": [],
   "source": [
    "'''\n",
    "YOUR CODE BELLOW\n",
    "'''\n",
    "def train_val_split(X, y, ratio=0.8):\n",
    "    '''\n",
    "    param X: trainset features\n",
    "    param y: trainset labels\n",
    "    param ratio: Train-val split ratio\n",
    "    \n",
    "    return splitted matricies as numpy.array's\n",
    "    '''\n",
    "    X_train, y_train, X_val, y_val = None, None, None, None\n",
    "    \n",
    "    return X_train, y_train, X_val, y_val"
   ]
  },
  {
   "cell_type": "code",
   "execution_count": null,
   "id": "60321f00",
   "metadata": {
    "pycharm": {
     "name": "#%%\n"
    }
   },
   "outputs": [],
   "source": [
    " X_train, y_train, X_val, y_val = train_val_split(X,y)"
   ]
  },
  {
   "cell_type": "code",
   "execution_count": null,
   "id": "c1733b32",
   "metadata": {
    "pycharm": {
     "name": "#%%\n"
    }
   },
   "outputs": [],
   "source": [
    "learning_rate = 1e-4\n",
    "batch_size = 4\n",
    "num_iters = 1000"
   ]
  },
  {
   "cell_type": "code",
   "execution_count": null,
   "id": "abc6c9b6",
   "metadata": {
    "pycharm": {
     "name": "#%%\n"
    }
   },
   "outputs": [],
   "source": [
    "t1 = time()\n",
    "results = nn_model.train(X_train, y_train, X_val, y_val, learning_rate, batch_size, num_iters)\n",
    "t2 = timie()\n",
    "print(f'It took {t2-t1} seconds to train model')"
   ]
  },
  {
   "cell_type": "markdown",
   "id": "076c06b5",
   "metadata": {
    "pycharm": {
     "name": "#%% md\n"
    }
   },
   "source": [
    "# Results\n",
    "\n",
    "Lets plot loss, train accuracy and validation accuracy"
   ]
  },
  {
   "cell_type": "code",
   "execution_count": null,
   "id": "598d3f8e",
   "metadata": {
    "pycharm": {
     "name": "#%%\n"
    }
   },
   "outputs": [],
   "source": [
    "plt.plot(np.arange(len(results['loss_history'])), results['loss_history'])\n",
    "plt.xlabel(\"Iterations\")\n",
    "plt.ylabel(\"Loss\")\n",
    "plt.show()"
   ]
  },
  {
   "cell_type": "code",
   "execution_count": null,
   "id": "ea6aa618",
   "metadata": {
    "pycharm": {
     "name": "#%%\n"
    }
   },
   "outputs": [],
   "source": [
    "plt.plot(np.arange(len(results['train_acc_history']))*100, results['train_acc_history'],label='train')\n",
    "plt.plot(np.arange(len(results['val_acc_history']))*100, results['val_acc_history'], label='val')\n",
    "plt.xlabel(\"Iterations\")\n",
    "plt.ylabel(\"Accuracy\")\n",
    "plt.legend()\n",
    "plt.show()"
   ]
  },
  {
   "cell_type": "markdown",
   "id": "d02247f3",
   "metadata": {
    "pycharm": {
     "name": "#%% md\n"
    }
   },
   "source": [
    "# Test model\n",
    "\n",
    "Finally we can test trained model on test dataset"
   ]
  },
  {
   "cell_type": "code",
   "execution_count": null,
   "id": "fb01a0c2",
   "metadata": {
    "pycharm": {
     "name": "#%%\n"
    }
   },
   "outputs": [],
   "source": [
    "y_pred = nn_model.predict(X_test)\n",
    "test_acc = (y_pred == y_test).mean()*100\n",
    "print(f'Your model test accuracy is : {test_acc}%')"
   ]
  },
  {
   "cell_type": "code",
   "execution_count": null,
   "id": "68128bf3",
   "metadata": {
    "pycharm": {
     "name": "#%%\n"
    }
   },
   "outputs": [],
   "source": []
  },
  {
   "cell_type": "code",
   "execution_count": null,
   "id": "77224182",
   "metadata": {
    "pycharm": {
     "name": "#%%\n"
    }
   },
   "outputs": [],
   "source": []
  },
  {
   "cell_type": "code",
   "execution_count": null,
   "id": "3b422552",
   "metadata": {
    "pycharm": {
     "name": "#%%\n"
    }
   },
   "outputs": [],
   "source": []
  }
 ],
 "metadata": {
  "kernelspec": {
   "display_name": "Python 3 (ipykernel)",
   "language": "python",
   "name": "python3"
  },
  "language_info": {
   "codemirror_mode": {
    "name": "ipython",
    "version": 3
   },
   "file_extension": ".py",
   "mimetype": "text/x-python",
   "name": "python",
   "nbconvert_exporter": "python",
   "pygments_lexer": "ipython3",
   "version": "3.9.12"
  }
 },
 "nbformat": 4,
 "nbformat_minor": 5
}
